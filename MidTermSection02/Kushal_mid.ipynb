{
 "cells": [
  {
   "cell_type": "markdown",
   "metadata": {},
   "source": [
    "#### Author = Kushal Reddy"
   ]
  },
  {
   "cell_type": "markdown",
   "metadata": {},
   "source": [
    "We are creating a key space and loading a csv file which contain the information about the files loaded in to the database. Here i am tring to briefly describe the model which would store the information such as user_id , User name and the file type and also the status whether the file is attached to the server or not."
   ]
  },
  {
   "cell_type": "markdown",
   "metadata": {},
   "source": [
    "Importing the required packages"
   ]
  },
  {
   "cell_type": "code",
   "execution_count": 14,
   "metadata": {},
   "outputs": [],
   "source": [
    "import pandas as pd\n",
    "from cassandra.cluster import Cluster"
   ]
  },
  {
   "cell_type": "code",
   "execution_count": 15,
   "metadata": {},
   "outputs": [],
   "source": [
    "clstr = Cluster()\n",
    "session = clstr.connect()"
   ]
  },
  {
   "cell_type": "markdown",
   "metadata": {},
   "source": [
    "Droping the key spaces if there are any with the name k10"
   ]
  },
  {
   "cell_type": "code",
   "execution_count": 16,
   "metadata": {},
   "outputs": [
    {
     "data": {
      "text/plain": [
       "<cassandra.cluster.ResultSet at 0x7fc19c352f50>"
      ]
     },
     "execution_count": 16,
     "metadata": {},
     "output_type": "execute_result"
    }
   ],
   "source": [
    "session.execute(\"DROP KEYSPACE IF EXISTS k10\")"
   ]
  },
  {
   "cell_type": "markdown",
   "metadata": {},
   "source": [
    "displaying the keyspaces"
   ]
  },
  {
   "cell_type": "code",
   "execution_count": 17,
   "metadata": {},
   "outputs": [
    {
     "name": "stdout",
     "output_type": "stream",
     "text": [
      "system\n",
      "system_auth\n",
      "system_distributed\n",
      "system_schema\n",
      "system_traces\n",
      "system_views\n",
      "system_virtual_schema\n",
      "w04python\n"
     ]
    }
   ],
   "source": [
    "rows = session.execute(\"desc keyspaces\")\n",
    "for row in rows:\n",
    "    print(f\"{row[0]}\")"
   ]
  },
  {
   "cell_type": "markdown",
   "metadata": {},
   "source": [
    "### creating the keyspace k10 with a replication fator of 3"
   ]
  },
  {
   "cell_type": "code",
   "execution_count": 18,
   "metadata": {},
   "outputs": [
    {
     "data": {
      "text/plain": [
       "<cassandra.cluster.ResultSet at 0x7fc19fd1c590>"
      ]
     },
     "execution_count": 18,
     "metadata": {},
     "output_type": "execute_result"
    }
   ],
   "source": [
    "session.execute(\"\"\"\n",
    "    CREATE KEYSPACE IF NOT EXISTS k10 WITH REPLICATION = {\n",
    "        'class':'SimpleStrategy', \n",
    "        'replication_factor':3\n",
    "    }\n",
    "\"\"\")"
   ]
  },
  {
   "cell_type": "code",
   "execution_count": 19,
   "metadata": {},
   "outputs": [
    {
     "name": "stdout",
     "output_type": "stream",
     "text": [
      "k10\n",
      "system\n",
      "system_auth\n",
      "system_distributed\n",
      "system_schema\n",
      "system_traces\n",
      "system_views\n",
      "system_virtual_schema\n",
      "w04python\n"
     ]
    }
   ],
   "source": [
    "rows = session.execute(\"desc keyspaces\")\n",
    "for row in rows:\n",
    "    print(f\"{row[0]}\")"
   ]
  },
  {
   "cell_type": "markdown",
   "metadata": {},
   "source": [
    "#### Creating a table in cassadra with the sutable column names"
   ]
  },
  {
   "cell_type": "code",
   "execution_count": 20,
   "metadata": {},
   "outputs": [
    {
     "data": {
      "text/plain": [
       "<cassandra.cluster.ResultSet at 0x7fc1640baed0>"
      ]
     },
     "execution_count": 20,
     "metadata": {},
     "output_type": "execute_result"
    }
   ],
   "source": [
    "session.execute(\"\"\"\n",
    "CREATE TABLE IF NOT EXISTS k10.student ( \n",
    "    user_id INT,\n",
    "    user_name TEXT, \n",
    "    date INT,\n",
    "    file_type TEXT, \n",
    "    file_attachment TEXT,           \n",
    "    PRIMARY KEY(user_id)\n",
    ");\n",
    "\"\"\")"
   ]
  },
  {
   "cell_type": "code",
   "execution_count": 21,
   "metadata": {},
   "outputs": [
    {
     "data": {
      "text/html": [
       "<div>\n",
       "<style scoped>\n",
       "    .dataframe tbody tr th:only-of-type {\n",
       "        vertical-align: middle;\n",
       "    }\n",
       "\n",
       "    .dataframe tbody tr th {\n",
       "        vertical-align: top;\n",
       "    }\n",
       "\n",
       "    .dataframe thead th {\n",
       "        text-align: right;\n",
       "    }\n",
       "</style>\n",
       "<table border=\"1\" class=\"dataframe\">\n",
       "  <thead>\n",
       "    <tr style=\"text-align: right;\">\n",
       "      <th></th>\n",
       "      <th>user_id</th>\n",
       "      <th>user_name</th>\n",
       "      <th>date</th>\n",
       "      <th>file_type</th>\n",
       "      <th>file_attachment</th>\n",
       "    </tr>\n",
       "  </thead>\n",
       "  <tbody>\n",
       "    <tr>\n",
       "      <th>0</th>\n",
       "      <td>1000</td>\n",
       "      <td>'Judy'</td>\n",
       "      <td>03052019</td>\n",
       "      <td>'IMG'</td>\n",
       "      <td>'attached'</td>\n",
       "    </tr>\n",
       "    <tr>\n",
       "      <th>1</th>\n",
       "      <td>1001</td>\n",
       "      <td>'Edward'</td>\n",
       "      <td>09042021</td>\n",
       "      <td>'IMG'</td>\n",
       "      <td>'notattached'</td>\n",
       "    </tr>\n",
       "    <tr>\n",
       "      <th>2</th>\n",
       "      <td>1002</td>\n",
       "      <td>'Judy'</td>\n",
       "      <td>08072002</td>\n",
       "      <td>'Video'</td>\n",
       "      <td>'notattached'</td>\n",
       "    </tr>\n",
       "    <tr>\n",
       "      <th>3</th>\n",
       "      <td>1003</td>\n",
       "      <td>'Edward'</td>\n",
       "      <td>12092021</td>\n",
       "      <td>'Video'</td>\n",
       "      <td>'attached'</td>\n",
       "    </tr>\n",
       "    <tr>\n",
       "      <th>4</th>\n",
       "      <td>1004</td>\n",
       "      <td>'Judy'</td>\n",
       "      <td>12112020</td>\n",
       "      <td>'Video'</td>\n",
       "      <td>'notattached'</td>\n",
       "    </tr>\n",
       "    <tr>\n",
       "      <th>5</th>\n",
       "      <td>1005</td>\n",
       "      <td>'Edward'</td>\n",
       "      <td>12122017</td>\n",
       "      <td>'Video'</td>\n",
       "      <td>'notattached'</td>\n",
       "    </tr>\n",
       "    <tr>\n",
       "      <th>6</th>\n",
       "      <td>1006</td>\n",
       "      <td>'Judy'</td>\n",
       "      <td>12202014</td>\n",
       "      <td>'IMG'</td>\n",
       "      <td>'attached'</td>\n",
       "    </tr>\n",
       "    <tr>\n",
       "      <th>7</th>\n",
       "      <td>1007</td>\n",
       "      <td>'Steve'</td>\n",
       "      <td>12202017</td>\n",
       "      <td>'IMG'</td>\n",
       "      <td>'notattached'</td>\n",
       "    </tr>\n",
       "    <tr>\n",
       "      <th>8</th>\n",
       "      <td>1008</td>\n",
       "      <td>'Edward'</td>\n",
       "      <td>12202019</td>\n",
       "      <td>'IMG'</td>\n",
       "      <td>'notattached'</td>\n",
       "    </tr>\n",
       "    <tr>\n",
       "      <th>9</th>\n",
       "      <td>1009</td>\n",
       "      <td>'Edward'</td>\n",
       "      <td>11202012</td>\n",
       "      <td>'IMG'</td>\n",
       "      <td>'attached'</td>\n",
       "    </tr>\n",
       "    <tr>\n",
       "      <th>10</th>\n",
       "      <td>1010</td>\n",
       "      <td>'Steve'</td>\n",
       "      <td>12202009</td>\n",
       "      <td>'Video'</td>\n",
       "      <td>'attached'</td>\n",
       "    </tr>\n",
       "    <tr>\n",
       "      <th>11</th>\n",
       "      <td>1011</td>\n",
       "      <td>'Edward'</td>\n",
       "      <td>11202008</td>\n",
       "      <td>'Video'</td>\n",
       "      <td>'attached'</td>\n",
       "    </tr>\n",
       "    <tr>\n",
       "      <th>12</th>\n",
       "      <td>1012</td>\n",
       "      <td>'Edward'</td>\n",
       "      <td>10212007</td>\n",
       "      <td>txt'</td>\n",
       "      <td>'attached'</td>\n",
       "    </tr>\n",
       "    <tr>\n",
       "      <th>13</th>\n",
       "      <td>1013</td>\n",
       "      <td>'Steve'</td>\n",
       "      <td>01272005</td>\n",
       "      <td>'IMG'</td>\n",
       "      <td>'attached'</td>\n",
       "    </tr>\n",
       "    <tr>\n",
       "      <th>14</th>\n",
       "      <td>1014</td>\n",
       "      <td>'Edward'</td>\n",
       "      <td>02242004</td>\n",
       "      <td>'Video'</td>\n",
       "      <td>'notattached'</td>\n",
       "    </tr>\n",
       "    <tr>\n",
       "      <th>15</th>\n",
       "      <td>1015</td>\n",
       "      <td>'Steve'</td>\n",
       "      <td>03292005</td>\n",
       "      <td>'txt'</td>\n",
       "      <td>'attached'</td>\n",
       "    </tr>\n",
       "    <tr>\n",
       "      <th>16</th>\n",
       "      <td>1016</td>\n",
       "      <td>'Judy'</td>\n",
       "      <td>04302008</td>\n",
       "      <td>'IMG'</td>\n",
       "      <td>'attached'</td>\n",
       "    </tr>\n",
       "    <tr>\n",
       "      <th>17</th>\n",
       "      <td>1017</td>\n",
       "      <td>'Edward'</td>\n",
       "      <td>05252001</td>\n",
       "      <td>'Video'</td>\n",
       "      <td>'attached'</td>\n",
       "    </tr>\n",
       "    <tr>\n",
       "      <th>18</th>\n",
       "      <td>1018</td>\n",
       "      <td>'Edward'</td>\n",
       "      <td>06122005'</td>\n",
       "      <td>'Video'</td>\n",
       "      <td>'notattached'</td>\n",
       "    </tr>\n",
       "    <tr>\n",
       "      <th>19</th>\n",
       "      <td>1019</td>\n",
       "      <td>'Judy'</td>\n",
       "      <td>07142004</td>\n",
       "      <td>'IMG'</td>\n",
       "      <td>'attached'</td>\n",
       "    </tr>\n",
       "    <tr>\n",
       "      <th>20</th>\n",
       "      <td>1020</td>\n",
       "      <td>'Judy'</td>\n",
       "      <td>08182024</td>\n",
       "      <td>'IMG'</td>\n",
       "      <td>'attached'</td>\n",
       "    </tr>\n",
       "  </tbody>\n",
       "</table>\n",
       "</div>"
      ],
      "text/plain": [
       "    user_id user_name       date file_type file_attachment\n",
       "0      1000    'Judy'   03052019     'IMG'      'attached'\n",
       "1      1001  'Edward'   09042021     'IMG'   'notattached'\n",
       "2      1002    'Judy'   08072002   'Video'   'notattached'\n",
       "3      1003  'Edward'   12092021   'Video'      'attached'\n",
       "4      1004    'Judy'   12112020   'Video'   'notattached'\n",
       "5      1005  'Edward'   12122017   'Video'   'notattached'\n",
       "6      1006    'Judy'   12202014     'IMG'      'attached'\n",
       "7      1007   'Steve'   12202017     'IMG'   'notattached'\n",
       "8      1008  'Edward'   12202019     'IMG'   'notattached'\n",
       "9      1009  'Edward'   11202012     'IMG'      'attached'\n",
       "10     1010   'Steve'   12202009   'Video'      'attached'\n",
       "11     1011  'Edward'   11202008   'Video'      'attached'\n",
       "12     1012  'Edward'   10212007      txt'      'attached'\n",
       "13     1013   'Steve'   01272005     'IMG'      'attached'\n",
       "14     1014  'Edward'   02242004   'Video'   'notattached'\n",
       "15     1015   'Steve'   03292005     'txt'      'attached'\n",
       "16     1016    'Judy'   04302008     'IMG'      'attached'\n",
       "17     1017  'Edward'   05252001   'Video'      'attached'\n",
       "18     1018  'Edward'  06122005'   'Video'   'notattached'\n",
       "19     1019    'Judy'   07142004     'IMG'      'attached'\n",
       "20     1020    'Judy'   08182024     'IMG'      'attached'"
      ]
     },
     "execution_count": 21,
     "metadata": {},
     "output_type": "execute_result"
    }
   ],
   "source": [
    "df = pd.read_csv('data.csv')\n",
    "df"
   ]
  },
  {
   "cell_type": "markdown",
   "metadata": {},
   "source": [
    "#### Reading the csv created "
   ]
  },
  {
   "cell_type": "code",
   "execution_count": 22,
   "metadata": {},
   "outputs": [
    {
     "name": "stdout",
     "output_type": "stream",
     "text": [
      "user_id = 1000, user_name ='Judy', date = 03052019, file_type = 'IMG', file_attachment = 'attached'\n",
      "user_id = 1001, user_name ='Edward', date = 09042021, file_type = 'IMG', file_attachment = 'notattached'\n",
      "user_id = 1002, user_name ='Judy', date = 08072002, file_type = 'Video', file_attachment = 'notattached'\n",
      "user_id = 1003, user_name ='Edward', date = 12092021, file_type = 'Video', file_attachment = 'attached'\n",
      "user_id = 1004, user_name ='Judy', date = 12112020, file_type = 'Video', file_attachment = 'notattached'\n",
      "user_id = 1005, user_name ='Edward', date = 12122017, file_type = 'Video', file_attachment = 'notattached'\n",
      "user_id = 1006, user_name ='Judy', date = 12202014, file_type = 'IMG', file_attachment = 'attached'\n",
      "user_id = 1007, user_name ='Steve', date = 12202017, file_type = 'IMG', file_attachment = 'notattached'\n",
      "user_id = 1008, user_name ='Edward', date = 12202019, file_type = 'IMG', file_attachment = 'notattached'\n",
      "user_id = 1009, user_name ='Edward', date = 11202012, file_type = 'IMG', file_attachment = 'attached'\n",
      "user_id = 1010, user_name ='Steve', date = 12202009, file_type = 'Video', file_attachment = 'attached'\n",
      "user_id = 1011, user_name ='Edward', date = 11202008, file_type = 'Video', file_attachment = 'attached'\n",
      "user_id = 1012, user_name ='Edward', date = 10212007, file_type = txt', file_attachment = 'attached'\n",
      "user_id = 1013, user_name ='Steve', date = 01272005, file_type = 'IMG', file_attachment = 'attached'\n",
      "user_id = 1014, user_name ='Edward', date = 02242004, file_type = 'Video', file_attachment = 'notattached'\n",
      "user_id = 1015, user_name ='Steve', date = 03292005, file_type = 'txt', file_attachment = 'attached'\n",
      "user_id = 1016, user_name ='Judy', date = 04302008, file_type = 'IMG', file_attachment = 'attached'\n",
      "user_id = 1017, user_name ='Edward', date = 05252001, file_type = 'Video', file_attachment = 'attached'\n",
      "user_id = 1018, user_name ='Edward', date = 06122005', file_type = 'Video', file_attachment = 'notattached'\n",
      "user_id = 1019, user_name ='Judy', date = 07142004, file_type = 'IMG', file_attachment = 'attached'\n",
      "user_id = 1020, user_name ='Judy', date = 08182024, file_type = 'IMG', file_attachment = 'attached'\n"
     ]
    }
   ],
   "source": [
    "for index, row in df.iterrows():\n",
    "    print(f\"user_id = {row.user_id}, user_name ={row.user_name}, date = {row.date}, file_type = {row.file_type}, file_attachment = {row.file_attachment}\")"
   ]
  },
  {
   "cell_type": "markdown",
   "metadata": {},
   "source": [
    "### Loading the data in the csv to the table"
   ]
  },
  {
   "cell_type": "code",
   "execution_count": 23,
   "metadata": {},
   "outputs": [
    {
     "name": "stdout",
     "output_type": "stream",
     "text": [
      "\n",
      "        INSERT INTO k10.student (user_id, user_name, date, file_type,file_attachment)     \n",
      "        VALUES (1000, 'Judy', 03052019, 'IMG', 'attached');\n",
      "        \n",
      "\n",
      "        INSERT INTO k10.student (user_id, user_name, date, file_type,file_attachment)     \n",
      "        VALUES (1001, 'Edward', 09042021, 'IMG', 'notattached');\n",
      "        \n",
      "\n",
      "        INSERT INTO k10.student (user_id, user_name, date, file_type,file_attachment)     \n",
      "        VALUES (1002, 'Judy', 08072002, 'Video', 'notattached');\n",
      "        \n",
      "\n",
      "        INSERT INTO k10.student (user_id, user_name, date, file_type,file_attachment)     \n",
      "        VALUES (1003, 'Edward', 12092021, 'Video', 'attached');\n",
      "        \n",
      "\n",
      "        INSERT INTO k10.student (user_id, user_name, date, file_type,file_attachment)     \n",
      "        VALUES (1004, 'Judy', 12112020, 'Video', 'notattached');\n",
      "        \n",
      "\n",
      "        INSERT INTO k10.student (user_id, user_name, date, file_type,file_attachment)     \n",
      "        VALUES (1005, 'Edward', 12122017, 'Video', 'notattached');\n",
      "        \n",
      "\n",
      "        INSERT INTO k10.student (user_id, user_name, date, file_type,file_attachment)     \n",
      "        VALUES (1006, 'Judy', 12202014, 'IMG', 'attached');\n",
      "        \n",
      "\n",
      "        INSERT INTO k10.student (user_id, user_name, date, file_type,file_attachment)     \n",
      "        VALUES (1007, 'Steve', 12202017, 'IMG', 'notattached');\n",
      "        \n",
      "\n",
      "        INSERT INTO k10.student (user_id, user_name, date, file_type,file_attachment)     \n",
      "        VALUES (1008, 'Edward', 12202019, 'IMG', 'notattached');\n",
      "        \n",
      "\n",
      "        INSERT INTO k10.student (user_id, user_name, date, file_type,file_attachment)     \n",
      "        VALUES (1009, 'Edward', 11202012, 'IMG', 'attached');\n",
      "        \n",
      "\n",
      "        INSERT INTO k10.student (user_id, user_name, date, file_type,file_attachment)     \n",
      "        VALUES (1010, 'Steve', 12202009, 'Video', 'attached');\n",
      "        \n",
      "\n",
      "        INSERT INTO k10.student (user_id, user_name, date, file_type,file_attachment)     \n",
      "        VALUES (1011, 'Edward', 11202008, 'Video', 'attached');\n",
      "        \n",
      "\n",
      "        INSERT INTO k10.student (user_id, user_name, date, file_type,file_attachment)     \n",
      "        VALUES (1012, 'Edward', 10212007, txt', 'attached');\n",
      "        \n",
      "\n",
      "        INSERT INTO k10.student (user_id, user_name, date, file_type,file_attachment)     \n",
      "        VALUES (1013, 'Steve', 01272005, 'IMG', 'attached');\n",
      "        \n",
      "\n",
      "        INSERT INTO k10.student (user_id, user_name, date, file_type,file_attachment)     \n",
      "        VALUES (1014, 'Edward', 02242004, 'Video', 'notattached');\n",
      "        \n",
      "\n",
      "        INSERT INTO k10.student (user_id, user_name, date, file_type,file_attachment)     \n",
      "        VALUES (1015, 'Steve', 03292005, 'txt', 'attached');\n",
      "        \n",
      "\n",
      "        INSERT INTO k10.student (user_id, user_name, date, file_type,file_attachment)     \n",
      "        VALUES (1016, 'Judy', 04302008, 'IMG', 'attached');\n",
      "        \n",
      "\n",
      "        INSERT INTO k10.student (user_id, user_name, date, file_type,file_attachment)     \n",
      "        VALUES (1017, 'Edward', 05252001, 'Video', 'attached');\n",
      "        \n",
      "\n",
      "        INSERT INTO k10.student (user_id, user_name, date, file_type,file_attachment)     \n",
      "        VALUES (1018, 'Edward', 06122005', 'Video', 'notattached');\n",
      "        \n",
      "\n",
      "        INSERT INTO k10.student (user_id, user_name, date, file_type,file_attachment)     \n",
      "        VALUES (1019, 'Judy', 07142004, 'IMG', 'attached');\n",
      "        \n",
      "\n",
      "        INSERT INTO k10.student (user_id, user_name, date, file_type,file_attachment)     \n",
      "        VALUES (1020, 'Judy', 08182024, 'IMG', 'attached');\n",
      "        \n"
     ]
    },
    {
     "data": {
      "text/plain": [
       "<cassandra.cluster.ResultSet at 0x7fc15f752190>"
      ]
     },
     "execution_count": 23,
     "metadata": {},
     "output_type": "execute_result"
    }
   ],
   "source": [
    "for index, row in df.iterrows():\n",
    "    print(f\"\"\"\n",
    "        INSERT INTO k10.student (user_id, user_name, date, file_type,file_attachment)     \n",
    "        VALUES ({row.user_id}, {row.user_name}, {row.date}, {row.file_type}, {row.file_attachment});\n",
    "        \"\"\"\n",
    "    )\n",
    "session.execute(f\"\"\"\n",
    "        INSERT INTO k10.student (user_id, user_name, date, file_type, file_attachment)     \n",
    "        VALUES ({row.user_id}, {row.user_name}, {row.date}, {row.file_type}, {row.file_attachment});\n",
    "        \"\"\"\n",
    "    )"
   ]
  },
  {
   "cell_type": "markdown",
   "metadata": {},
   "source": [
    "#### displaying a column in the table"
   ]
  },
  {
   "cell_type": "code",
   "execution_count": 24,
   "metadata": {},
   "outputs": [
    {
     "name": "stdout",
     "output_type": "stream",
     "text": [
      "user_id=1020, user_name=Judy, date=8182024, file_type=IMG, file_attachment=attached\n"
     ]
    }
   ],
   "source": [
    "rows = session.execute(\"select (user_id, user_name, date, file_type, file_attachment)from k10.student\")\n",
    "for row in rows:\n",
    "    print(f\"user_id={row[0][0]}, user_name={row[0][1]}, date={row[0][2]}, file_type={row[0][3]}, file_attachment={row[0][4]}\")"
   ]
  },
  {
   "cell_type": "markdown",
   "metadata": {},
   "source": [
    "#### Updating the status of a file as attached for the user_id '1003\""
   ]
  },
  {
   "cell_type": "code",
   "execution_count": 25,
   "metadata": {},
   "outputs": [
    {
     "data": {
      "text/plain": [
       "<cassandra.cluster.ResultSet at 0x7fc15f75ad90>"
      ]
     },
     "execution_count": 25,
     "metadata": {},
     "output_type": "execute_result"
    }
   ],
   "source": [
    "session.execute(\"UPDATE k10.student SET file_attachment= 'attached' where user_id=1003\")\n"
   ]
  },
  {
   "cell_type": "markdown",
   "metadata": {},
   "source": [
    "#### Dropping a row  "
   ]
  },
  {
   "cell_type": "code",
   "execution_count": 26,
   "metadata": {},
   "outputs": [],
   "source": [
    "session.execute(\"\"\"DELETE FROM k10.student where user_id=1004\"\"\");"
   ]
  },
  {
   "cell_type": "markdown",
   "metadata": {},
   "source": [
    "##### In this note book i have demostrated the the creating search and insert and delete operations . Here i have created a table with the basic structure of storing the text data releated to files."
   ]
  }
 ],
 "metadata": {
  "kernelspec": {
   "display_name": "bd",
   "language": "python",
   "name": "python3"
  },
  "language_info": {
   "codemirror_mode": {
    "name": "ipython",
    "version": 3
   },
   "file_extension": ".py",
   "mimetype": "text/x-python",
   "name": "python",
   "nbconvert_exporter": "python",
   "pygments_lexer": "ipython3",
   "version": "3.11.5"
  },
  "orig_nbformat": 4
 },
 "nbformat": 4,
 "nbformat_minor": 2
}
